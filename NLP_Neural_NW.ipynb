{
  "nbformat": 4,
  "nbformat_minor": 0,
  "metadata": {
    "colab": {
      "name": "NLP_Neural_NW.ipynb",
      "provenance": [],
      "collapsed_sections": []
    },
    "kernelspec": {
      "name": "python3",
      "display_name": "Python 3"
    }
  },
  "cells": [
    {
      "cell_type": "code",
      "metadata": {
        "id": "_ClqjoZlx-le",
        "colab_type": "code",
        "colab": {}
      },
      "source": [
        "import numpy as np\n",
        "import pandas as pd\n",
        "from keras.utils import to_categorical\n",
        "from keras.preprocessing.sequence import pad_sequences\n",
        "from keras.models import Sequential\n",
        "from keras.layers import LSTM, Dense, GRU, Embedding\n",
        "from keras.callbacks import EarlyStopping, ModelCheckpoint\n",
        "# To run 1.X code, unmodified (except for contrib), in TensorFlow 2.0\n",
        "# import tensorflow.compat.v1 as tf\n",
        "# tf.disable_v2_behavior()"
      ],
      "execution_count": 0,
      "outputs": []
    },
    {
      "cell_type": "code",
      "metadata": {
        "id": "ddIpqIARyN0n",
        "colab_type": "code",
        "colab": {}
      },
      "source": [
        "data_text = \"\"\"The unanimous Declaration of the thirteen united States of America, When in the Course of human events, it becomes necessary for one people to dissolve the political bands which have connected them with another, and to assume among the powers of the earth, the separate and equal station to which the Laws of Nature and of Nature's God entitle them, a decent respect to the opinions of mankind requires that they should declare the causes which impel them to the separation.\n",
        "We hold these truths to be self-evident, that all men are created equal, that they are endowed by their Creator with certain unalienable Rights, that among these are Life, Liberty and the pursuit of Happiness.--That to secure these rights, Governments are instituted among Men, deriving their just powers from the consent of the governed, --That whenever any Form of Government becomes destructive of these ends, it is the Right of the People to alter or to abolish it, and to institute new Government, laying its foundation on such principles and organizing its powers in such form, as to them shall seem most likely to effect their Safety and Happiness. Prudence, indeed, will dictate that Governments long established should not be changed for light and transient causes; and accordingly all experience hath shewn, that mankind are more disposed to suffer, while evils are sufferable, than to right themselves by abolishing the forms to which they are accustomed. But when a long train of abuses and usurpations, pursuing invariably the same Object evinces a design to reduce them under absolute Despotism, it is their right, it is their duty, to throw off such Government, and to provide new Guards for their future security.--Such has been the patient sufferance of these Colonies; and such is now the necessity which constrains them to alter their former Systems of Government. The history of the present King of Great Britain is a history of repeated injuries and usurpations, all having in direct object the establishment of an absolute Tyranny over these States. To prove this, let Facts be submitted to a candid world.\n",
        "He has refused his Assent to Laws, the most wholesome and necessary for the public good.\n",
        "He has forbidden his Governors to pass Laws of immediate and pressing importance, unless suspended in their operation till his Assent should be obtained; and when so suspended, he has utterly neglected to attend to them.\n",
        "He has refused to pass other Laws for the accommodation of large districts of people, unless those people would relinquish the right of Representation in the Legislature, a right inestimable to them and formidable to tyrants only.\n",
        "He has called together legislative bodies at places unusual, uncomfortable, and distant from the depository of their public Records, for the sole purpose of fatiguing them into compliance with his measures.\n",
        "He has dissolved Representative Houses repeatedly, for opposing with manly firmness his invasions on the rights of the people.\n",
        "He has refused for a long time, after such dissolutions, to cause others to be elected; whereby the Legislative powers, incapable of Annihilation, have returned to the People at large for their exercise; the State remaining in the mean time exposed to all the dangers of invasion from without, and convulsions within.\n",
        "He has endeavoured to prevent the population of these States; for that purpose obstructing the Laws for Naturalization of Foreigners; refusing to pass others to encourage their migrations hither, and raising the conditions of new Appropriations of Lands.\n",
        "He has obstructed the Administration of Justice, by refusing his Assent to Laws for establishing Judiciary powers.\n",
        "He has made Judges dependent on his Will alone, for the tenure of their offices, and the amount and payment of their salaries.\n",
        "He has erected a multitude of New Offices, and sent hither swarms of Officers to harrass our people, and eat out their substance.\n",
        "He has kept among us, in times of peace, Standing Armies without the Consent of our legislatures.\n",
        "He has affected to render the Military independent of and superior to the Civil power.\n",
        "He has combined with others to subject us to a jurisdiction foreign to our constitution, and unacknowledged by our laws; giving his Assent to their Acts of pretended Legislation:\n",
        "For Quartering large bodies of armed troops among us:\n",
        "For protecting them, by a mock Trial, from punishment for any Murders which they should commit on the Inhabitants of these States:\n",
        "For cutting off our Trade with all parts of the world:\n",
        "For imposing Taxes on us without our Consent:\n",
        "For depriving us in many cases, of the benefits of Trial by Jury:\n",
        "For transporting us beyond Seas to be tried for pretended offences\n",
        "For abolishing the free System of English Laws in a neighbouring Province, establishing therein an Arbitrary government, and enlarging its Boundaries so as to render it at once an example and fit instrument for introducing the same absolute rule into these Colonies:\n",
        "For taking away our Charters, abolishing our most valuable Laws, and altering fundamentally the Forms of our Governments:\n",
        "For suspending our own Legislatures, and declaring themselves invested with power to legislate for us in all cases whatsoever.\n",
        "He has abdicated Government here, by declaring us out of his Protection and waging War against us.\n",
        "He has plundered our seas, ravaged our Coasts, burnt our towns, and destroyed the lives of our people.\n",
        "He is at this time transporting large Armies of foreign Mercenaries to compleat the works of death, desolation and tyranny, already begun with circumstances of Cruelty & perfidy scarcely paralleled in the most barbarous ages, and totally unworthy the Head of a civilized nation.\n",
        "He has constrained our fellow Citizens taken Captive on the high Seas to bear Arms against their Country, to become the executioners of their friends and Brethren, or to fall themselves by their Hands.\n",
        "He has excited domestic insurrections amongst us, and has endeavoured to bring on the inhabitants of our frontiers, the merciless Indian Savages, whose known rule of warfare, is an undistinguished destruction of all ages, sexes and conditions.\n",
        "In every stage of these Oppressions We have Petitioned for Redress in the most humble terms: Our repeated Petitions have been answered only by repeated injury. A Prince whose character is thus marked by every act which may define a Tyrant, is unfit to be the ruler of a free people.\n",
        "Nor have We been wanting in attentions to our Brittish brethren. We have warned them from time to time of attempts by their legislature to extend an unwarrantable jurisdiction over us. We have reminded them of the circumstances of our emigration and settlement here. We have appealed to their native justice and magnanimity, and we have conjured them by the ties of our common kindred to disavow these usurpations, which, would inevitably interrupt our connections and correspondence. They too have been deaf to the voice of justice and of consanguinity. We must, therefore, acquiesce in the necessity, which denounces our Separation, and hold them, as we hold the rest of mankind, Enemies in War, in Peace Friends.\n",
        "We, therefore, the Representatives of the united States of America, in General Congress, Assembled, appealing to the Supreme Judge of the world for the rectitude of our intentions, do, in the Name, and by Authority of the good People of these Colonies, solemnly publish and declare, That these United Colonies are, and of Right ought to be Free and Independent States; that they are Absolved from all Allegiance to the British Crown, and that all political connection between them and the State of Great Britain, is and ought to be totally dissolved; and that as Free and Independent States, they have full Power to levy War, conclude Peace, contract Alliances, establish Commerce, and to do all other Acts and Things which Independent States may of right do. And for the support of this Declaration, with a firm reliance on the protection of divine Providence, we mutually pledge to each other our Lives, our Fortunes and our sacred Honor.\"\"\"\n"
      ],
      "execution_count": 0,
      "outputs": []
    },
    {
      "cell_type": "code",
      "metadata": {
        "id": "aKzT4xvbyuFX",
        "colab_type": "code",
        "colab": {
          "base_uri": "https://localhost:8080/",
          "height": 54
        },
        "outputId": "02a19e60-d51d-4d9f-9cfc-1abab0d217d5"
      },
      "source": [
        "# Text cleaning\n",
        "\n",
        "# 1. Converting entire string to lower case.\n",
        "# 2. Removing the '(apostrophe) symbol.\n",
        "# 3. Remove Punctuations from string.\n",
        "# 4. Remove short words from string.\n",
        "\n",
        "import re\n",
        "\n",
        "def text_cleaner(text):\n",
        "    # lower case text\n",
        "    newString = text.lower()\n",
        "    newString = re.sub(r\"'s\\b\",\"\",newString)\n",
        "    # remove punctuations\n",
        "    newString = re.sub(\"[^a-zA-Z]\", \" \", newString) \n",
        "    long_words=[]\n",
        "    # remove short word\n",
        "    for i in newString.split():\n",
        "        if len(i)>=3:                  \n",
        "            long_words.append(i)\n",
        "    return (\" \".join(long_words)).strip()\n",
        "\n",
        "# preprocess the text\n",
        "data_new = text_cleaner(data_text)\n",
        "\n",
        "data_new"
      ],
      "execution_count": 11,
      "outputs": [
        {
          "output_type": "execute_result",
          "data": {
            "text/plain": [
              "'the unanimous declaration the thirteen united states america when the course human events becomes necessary for one people dissolve the political bands which have connected them with another and assume among the powers the earth the separate and equal station which the laws nature and nature god entitle them decent respect the opinions mankind requires that they should declare the causes which impel them the separation hold these truths self evident that all men are created equal that they are endowed their creator with certain unalienable rights that among these are life liberty and the pursuit happiness that secure these rights governments are instituted among men deriving their just powers from the consent the governed that whenever any form government becomes destructive these ends the right the people alter abolish and institute new government laying its foundation such principles and organizing its powers such form them shall seem most likely effect their safety and happiness prudence indeed will dictate that governments long established should not changed for light and transient causes and accordingly all experience hath shewn that mankind are more disposed suffer while evils are sufferable than right themselves abolishing the forms which they are accustomed but when long train abuses and usurpations pursuing invariably the same object evinces design reduce them under absolute despotism their right their duty throw off such government and provide new guards for their future security such has been the patient sufferance these colonies and such now the necessity which constrains them alter their former systems government the history the present king great britain history repeated injuries and usurpations all having direct object the establishment absolute tyranny over these states prove this let facts submitted candid world has refused his assent laws the most wholesome and necessary for the public good has forbidden his governors pass laws immediate and pressing importance unless suspended their operation till his assent should obtained and when suspended has utterly neglected attend them has refused pass other laws for the accommodation large districts people unless those people would relinquish the right representation the legislature right inestimable them and formidable tyrants only has called together legislative bodies places unusual uncomfortable and distant from the depository their public records for the sole purpose fatiguing them into compliance with his measures has dissolved representative houses repeatedly for opposing with manly firmness his invasions the rights the people has refused for long time after such dissolutions cause others elected whereby the legislative powers incapable annihilation have returned the people large for their exercise the state remaining the mean time exposed all the dangers invasion from without and convulsions within has endeavoured prevent the population these states for that purpose obstructing the laws for naturalization foreigners refusing pass others encourage their migrations hither and raising the conditions new appropriations lands has obstructed the administration justice refusing his assent laws for establishing judiciary powers has made judges dependent his will alone for the tenure their offices and the amount and payment their salaries has erected multitude new offices and sent hither swarms officers harrass our people and eat out their substance has kept among times peace standing armies without the consent our legislatures has affected render the military independent and superior the civil power has combined with others subject jurisdiction foreign our constitution and unacknowledged our laws giving his assent their acts pretended legislation for quartering large bodies armed troops among for protecting them mock trial from punishment for any murders which they should commit the inhabitants these states for cutting off our trade with all parts the world for imposing taxes without our consent for depriving many cases the benefits trial jury for transporting beyond seas tried for pretended offences for abolishing the free system english laws neighbouring province establishing therein arbitrary government and enlarging its boundaries render once example and fit instrument for introducing the same absolute rule into these colonies for taking away our charters abolishing our most valuable laws and altering fundamentally the forms our governments for suspending our own legislatures and declaring themselves invested with power legislate for all cases whatsoever has abdicated government here declaring out his protection and waging war against has plundered our seas ravaged our coasts burnt our towns and destroyed the lives our people this time transporting large armies foreign mercenaries compleat the works death desolation and tyranny already begun with circumstances cruelty perfidy scarcely paralleled the most barbarous ages and totally unworthy the head civilized nation has constrained our fellow citizens taken captive the high seas bear arms against their country become the executioners their friends and brethren fall themselves their hands has excited domestic insurrections amongst and has endeavoured bring the inhabitants our frontiers the merciless indian savages whose known rule warfare undistinguished destruction all ages sexes and conditions every stage these oppressions have petitioned for redress the most humble terms our repeated petitions have been answered only repeated injury prince whose character thus marked every act which may define tyrant unfit the ruler free people nor have been wanting attentions our brittish brethren have warned them from time time attempts their legislature extend unwarrantable jurisdiction over have reminded them the circumstances our emigration and settlement here have appealed their native justice and magnanimity and have conjured them the ties our common kindred disavow these usurpations which would inevitably interrupt our connections and correspondence they too have been deaf the voice justice and consanguinity must therefore acquiesce the necessity which denounces our separation and hold them hold the rest mankind enemies war peace friends therefore the representatives the united states america general congress assembled appealing the supreme judge the world for the rectitude our intentions the name and authority the good people these colonies solemnly publish and declare that these united colonies are and right ought free and independent states that they are absolved from all allegiance the british crown and that all political connection between them and the state great britain and ought totally dissolved and that free and independent states they have full power levy war conclude peace contract alliances establish commerce and all other acts and things which independent states may right and for the support this declaration with firm reliance the protection divine providence mutually pledge each other our lives our fortunes and our sacred honor'"
            ]
          },
          "metadata": {
            "tags": []
          },
          "execution_count": 11
        }
      ]
    },
    {
      "cell_type": "code",
      "metadata": {
        "id": "X9SNm7E4y6iv",
        "colab_type": "code",
        "colab": {
          "base_uri": "https://localhost:8080/",
          "height": 34
        },
        "outputId": "f12b35f3-c6a5-46a4-a448-9cf646db97d4"
      },
      "source": [
        "# Creating Sequences\n",
        "\n",
        "# The way this problem is modeled is we take in 30 characters as context and ask the model to predict the next character. \n",
        "# We essentially need enough characters in the input sequence that your model is able to get the context.\n",
        "\n",
        "def create_seq(text):\n",
        "    length = 30\n",
        "    sequences = list()\n",
        "    for i in range(length, len(text)):\n",
        "        # select sequence of tokens\n",
        "          # Example, let's say length of text is 100 characters, then\n",
        "          # for i in range(30, 100) we will make 70 sequences\n",
        "          # for i=30 --> sequence will be [30-30: 30+1] --> [0:31]\n",
        "          # for i=31 --> sequence will be [31-30: 31+1] --> [1:32]\n",
        "          # for i=32 --> sequence will be [32-30: 32+1] --> [2:33]\n",
        "          \n",
        "        seq = text[i-length:i+1]\n",
        "        # store\n",
        "        sequences.append(seq)\n",
        "    print('Total Sequences: %d' % len(sequences))\n",
        "    return sequences\n",
        "\n",
        "# create sequences   \n",
        "sequences = create_seq(data_new)"
      ],
      "execution_count": 18,
      "outputs": [
        {
          "output_type": "stream",
          "text": [
            "Total Sequences: 7052\n"
          ],
          "name": "stdout"
        }
      ]
    },
    {
      "cell_type": "code",
      "metadata": {
        "id": "pihldWAo1J6A",
        "colab_type": "code",
        "colab": {
          "base_uri": "https://localhost:8080/",
          "height": 101
        },
        "outputId": "a3524f0b-c197-4e40-e629-fd25d8b1eb8c"
      },
      "source": [
        "sequences[:5]"
      ],
      "execution_count": 19,
      "outputs": [
        {
          "output_type": "execute_result",
          "data": {
            "text/plain": [
              "['the unanimous declaration the t',\n",
              " 'he unanimous declaration the th',\n",
              " 'e unanimous declaration the thi',\n",
              " ' unanimous declaration the thir',\n",
              " 'unanimous declaration the thirt']"
            ]
          },
          "metadata": {
            "tags": []
          },
          "execution_count": 19
        }
      ]
    },
    {
      "cell_type": "code",
      "metadata": {
        "id": "Uci0sy4Q3jk3",
        "colab_type": "code",
        "colab": {
          "base_uri": "https://localhost:8080/",
          "height": 70
        },
        "outputId": "4319dc9e-20c9-4c81-df60-38cef856c67e"
      },
      "source": [
        "# Encoding Sequences\n",
        "# Where each character in corpus (i.e. dataset) will be given a number \n",
        "# This encoding will be in alphabetical order, i.e. if the corpus contains \n",
        "# 5 alphabets namely [c,g,a,u,i], then the encoding will be\n",
        "# a-1, c-2, g-3, i-4, u-5\n",
        "\n",
        "# create a character mapping index\n",
        "chars = sorted(list(set(data_new)))\n",
        "mapping = dict((c, i) for i, c in enumerate(chars))\n",
        "\n",
        "print (mapping)\n",
        "\n",
        "# Encoding the pre generated sequence.\n",
        "def encode_seq(seq):\n",
        "    sequences = list()\n",
        "    for line in seq:\n",
        "        # integer encode line\n",
        "        encoded_seq = [mapping[char] for char in line]\n",
        "        # store\n",
        "        sequences.append(encoded_seq)\n",
        "    return sequences\n",
        "\n",
        "# encode the sequences\n",
        "sequences = encode_seq(sequences)\n",
        "\n",
        "# Visualizing the first sequence\n",
        "print (sequences[0])\n"
      ],
      "execution_count": 20,
      "outputs": [
        {
          "output_type": "stream",
          "text": [
            "{' ': 0, 'a': 1, 'b': 2, 'c': 3, 'd': 4, 'e': 5, 'f': 6, 'g': 7, 'h': 8, 'i': 9, 'j': 10, 'k': 11, 'l': 12, 'm': 13, 'n': 14, 'o': 15, 'p': 16, 'q': 17, 'r': 18, 's': 19, 't': 20, 'u': 21, 'v': 22, 'w': 23, 'x': 24, 'y': 25, 'z': 26}\n",
            "[20, 8, 5, 0, 21, 14, 1, 14, 9, 13, 15, 21, 19, 0, 4, 5, 3, 12, 1, 18, 1, 20, 9, 15, 14, 0, 20, 8, 5, 0, 20]\n"
          ],
          "name": "stdout"
        }
      ]
    },
    {
      "cell_type": "code",
      "metadata": {
        "id": "pXzXBuvm4WVH",
        "colab_type": "code",
        "colab": {
          "base_uri": "https://localhost:8080/",
          "height": 34
        },
        "outputId": "11223a58-2109-4f1a-d366-75455adef8c5"
      },
      "source": [
        "# Creating training and validation data\n",
        "from sklearn.model_selection import train_test_split\n",
        "\n",
        "# vocabulary size (available characters in the corpus)\n",
        "# This can be (<=26) if the language is english, and can grow further for other languages.\n",
        "vocab = len(mapping)\n",
        "\n",
        "# Converting sequence list to array.\n",
        "sequences = np.array(sequences)\n",
        "\n",
        "# create X and y i.e. input and output data\n",
        "# input  --> all characters in sequence expect last one, i.e. 29 characters\n",
        "# output ---> the last character of the sequence.\n",
        "X, y = sequences[:,:-1], sequences[:,-1]\n",
        "\n",
        "# one hot encode y, convert y to categorical value (classification problem not regression)\n",
        "y = to_categorical(y, num_classes=vocab)\n",
        "\n",
        "# create train and validation sets, test size is 10%\n",
        "X_tr, X_val, y_tr, y_val = train_test_split(X, y, test_size=0.1, random_state=42)\n",
        "\n",
        "print('Train shape:', X_tr.shape, 'Val shape:', X_val.shape)"
      ],
      "execution_count": 21,
      "outputs": [
        {
          "output_type": "stream",
          "text": [
            "Train shape: (6346, 30) Val shape: (706, 30)\n"
          ],
          "name": "stdout"
        }
      ]
    },
    {
      "cell_type": "code",
      "metadata": {
        "id": "G-0XG-cK6zxR",
        "colab_type": "code",
        "colab": {
          "base_uri": "https://localhost:8080/",
          "height": 1000
        },
        "outputId": "ea399e35-36c5-4b56-d290-e1b88d6f5202"
      },
      "source": [
        "# Building the Neuaral N/W model\n",
        "\n",
        "# define model\n",
        "model = Sequential()\n",
        "model.add(Embedding(vocab, 50, input_length=30, trainable=True))\n",
        "model.add(GRU(150, recurrent_dropout=0.1, dropout=0.1))\n",
        "model.add(Dense(vocab, activation='softmax'))\n",
        "print(model.summary())\n",
        "\n",
        "# compile the model\n",
        "model.compile(loss='categorical_crossentropy', metrics=['acc'], optimizer='adam')\n",
        "# fit the model\n",
        "model.fit(X_tr, y_tr, epochs=100, verbose=2, validation_data=(X_val, y_val))"
      ],
      "execution_count": 22,
      "outputs": [
        {
          "output_type": "stream",
          "text": [
            "WARNING:tensorflow:From /usr/local/lib/python3.6/dist-packages/keras/backend/tensorflow_backend.py:66: The name tf.get_default_graph is deprecated. Please use tf.compat.v1.get_default_graph instead.\n",
            "\n",
            "WARNING:tensorflow:From /usr/local/lib/python3.6/dist-packages/keras/backend/tensorflow_backend.py:541: The name tf.placeholder is deprecated. Please use tf.compat.v1.placeholder instead.\n",
            "\n",
            "WARNING:tensorflow:From /usr/local/lib/python3.6/dist-packages/keras/backend/tensorflow_backend.py:4432: The name tf.random_uniform is deprecated. Please use tf.random.uniform instead.\n",
            "\n",
            "WARNING:tensorflow:From /usr/local/lib/python3.6/dist-packages/keras/backend/tensorflow_backend.py:148: The name tf.placeholder_with_default is deprecated. Please use tf.compat.v1.placeholder_with_default instead.\n",
            "\n",
            "WARNING:tensorflow:From /usr/local/lib/python3.6/dist-packages/keras/backend/tensorflow_backend.py:3733: calling dropout (from tensorflow.python.ops.nn_ops) with keep_prob is deprecated and will be removed in a future version.\n",
            "Instructions for updating:\n",
            "Please use `rate` instead of `keep_prob`. Rate should be set to `rate = 1 - keep_prob`.\n",
            "Model: \"sequential_1\"\n",
            "_________________________________________________________________\n",
            "Layer (type)                 Output Shape              Param #   \n",
            "=================================================================\n",
            "embedding_1 (Embedding)      (None, 30, 50)            1350      \n",
            "_________________________________________________________________\n",
            "gru_1 (GRU)                  (None, 150)               90450     \n",
            "_________________________________________________________________\n",
            "dense_1 (Dense)              (None, 27)                4077      \n",
            "=================================================================\n",
            "Total params: 95,877\n",
            "Trainable params: 95,877\n",
            "Non-trainable params: 0\n",
            "_________________________________________________________________\n",
            "None\n",
            "WARNING:tensorflow:From /usr/local/lib/python3.6/dist-packages/keras/optimizers.py:793: The name tf.train.Optimizer is deprecated. Please use tf.compat.v1.train.Optimizer instead.\n",
            "\n",
            "WARNING:tensorflow:From /usr/local/lib/python3.6/dist-packages/keras/backend/tensorflow_backend.py:3576: The name tf.log is deprecated. Please use tf.math.log instead.\n",
            "\n",
            "WARNING:tensorflow:From /usr/local/lib/python3.6/dist-packages/tensorflow_core/python/ops/math_grad.py:1424: where (from tensorflow.python.ops.array_ops) is deprecated and will be removed in a future version.\n",
            "Instructions for updating:\n",
            "Use tf.where in 2.0, which has the same broadcast rule as np.where\n",
            "WARNING:tensorflow:From /usr/local/lib/python3.6/dist-packages/keras/backend/tensorflow_backend.py:1033: The name tf.assign_add is deprecated. Please use tf.compat.v1.assign_add instead.\n",
            "\n",
            "WARNING:tensorflow:From /usr/local/lib/python3.6/dist-packages/keras/backend/tensorflow_backend.py:1020: The name tf.assign is deprecated. Please use tf.compat.v1.assign instead.\n",
            "\n",
            "WARNING:tensorflow:From /usr/local/lib/python3.6/dist-packages/keras/backend/tensorflow_backend.py:3005: The name tf.Session is deprecated. Please use tf.compat.v1.Session instead.\n",
            "\n",
            "Train on 6346 samples, validate on 706 samples\n",
            "Epoch 1/100\n",
            "WARNING:tensorflow:From /usr/local/lib/python3.6/dist-packages/keras/backend/tensorflow_backend.py:190: The name tf.get_default_session is deprecated. Please use tf.compat.v1.get_default_session instead.\n",
            "\n",
            "WARNING:tensorflow:From /usr/local/lib/python3.6/dist-packages/keras/backend/tensorflow_backend.py:197: The name tf.ConfigProto is deprecated. Please use tf.compat.v1.ConfigProto instead.\n",
            "\n",
            "WARNING:tensorflow:From /usr/local/lib/python3.6/dist-packages/keras/backend/tensorflow_backend.py:207: The name tf.global_variables is deprecated. Please use tf.compat.v1.global_variables instead.\n",
            "\n",
            "WARNING:tensorflow:From /usr/local/lib/python3.6/dist-packages/keras/backend/tensorflow_backend.py:216: The name tf.is_variable_initialized is deprecated. Please use tf.compat.v1.is_variable_initialized instead.\n",
            "\n",
            "WARNING:tensorflow:From /usr/local/lib/python3.6/dist-packages/keras/backend/tensorflow_backend.py:223: The name tf.variables_initializer is deprecated. Please use tf.compat.v1.variables_initializer instead.\n",
            "\n",
            " - 10s - loss: 2.7440 - acc: 0.1992 - val_loss: 2.3878 - val_acc: 0.3017\n",
            "Epoch 2/100\n",
            " - 9s - loss: 2.2939 - acc: 0.3243 - val_loss: 2.2413 - val_acc: 0.3428\n",
            "Epoch 3/100\n",
            " - 9s - loss: 2.1692 - acc: 0.3512 - val_loss: 2.1604 - val_acc: 0.3612\n",
            "Epoch 4/100\n",
            " - 9s - loss: 2.0668 - acc: 0.3826 - val_loss: 2.1061 - val_acc: 0.3683\n",
            "Epoch 5/100\n",
            " - 9s - loss: 1.9812 - acc: 0.4031 - val_loss: 2.0417 - val_acc: 0.3909\n",
            "Epoch 6/100\n",
            " - 9s - loss: 1.8984 - acc: 0.4311 - val_loss: 2.0007 - val_acc: 0.4178\n",
            "Epoch 7/100\n",
            " - 9s - loss: 1.8307 - acc: 0.4453 - val_loss: 1.9507 - val_acc: 0.4533\n",
            "Epoch 8/100\n",
            " - 9s - loss: 1.7616 - acc: 0.4683 - val_loss: 1.9309 - val_acc: 0.4504\n",
            "Epoch 9/100\n",
            " - 9s - loss: 1.6895 - acc: 0.4893 - val_loss: 1.8996 - val_acc: 0.4816\n",
            "Epoch 10/100\n",
            " - 9s - loss: 1.6161 - acc: 0.5107 - val_loss: 1.8820 - val_acc: 0.4717\n",
            "Epoch 11/100\n",
            " - 9s - loss: 1.5571 - acc: 0.5217 - val_loss: 1.8834 - val_acc: 0.4788\n",
            "Epoch 12/100\n",
            " - 9s - loss: 1.4906 - acc: 0.5440 - val_loss: 1.8708 - val_acc: 0.4943\n",
            "Epoch 13/100\n",
            " - 9s - loss: 1.4302 - acc: 0.5640 - val_loss: 1.8703 - val_acc: 0.4844\n",
            "Epoch 14/100\n",
            " - 9s - loss: 1.3719 - acc: 0.5758 - val_loss: 1.8803 - val_acc: 0.4929\n",
            "Epoch 15/100\n",
            " - 9s - loss: 1.3183 - acc: 0.5934 - val_loss: 1.8968 - val_acc: 0.4773\n",
            "Epoch 16/100\n",
            " - 9s - loss: 1.2575 - acc: 0.6147 - val_loss: 1.9252 - val_acc: 0.4788\n",
            "Epoch 17/100\n",
            " - 9s - loss: 1.2052 - acc: 0.6250 - val_loss: 1.9283 - val_acc: 0.4873\n",
            "Epoch 18/100\n",
            " - 9s - loss: 1.1599 - acc: 0.6368 - val_loss: 1.9600 - val_acc: 0.4858\n",
            "Epoch 19/100\n",
            " - 9s - loss: 1.1201 - acc: 0.6538 - val_loss: 1.9745 - val_acc: 0.4929\n",
            "Epoch 20/100\n",
            " - 9s - loss: 1.0758 - acc: 0.6670 - val_loss: 2.0172 - val_acc: 0.4731\n",
            "Epoch 21/100\n",
            " - 9s - loss: 1.0307 - acc: 0.6790 - val_loss: 2.0151 - val_acc: 0.4858\n",
            "Epoch 22/100\n",
            " - 9s - loss: 0.9997 - acc: 0.6749 - val_loss: 2.0062 - val_acc: 0.4901\n",
            "Epoch 23/100\n",
            " - 9s - loss: 0.9557 - acc: 0.7015 - val_loss: 2.0800 - val_acc: 0.4773\n",
            "Epoch 24/100\n",
            " - 9s - loss: 0.9267 - acc: 0.7028 - val_loss: 2.0819 - val_acc: 0.4802\n",
            "Epoch 25/100\n",
            " - 9s - loss: 0.8901 - acc: 0.7187 - val_loss: 2.0692 - val_acc: 0.5071\n",
            "Epoch 26/100\n",
            " - 9s - loss: 0.8698 - acc: 0.7225 - val_loss: 2.1360 - val_acc: 0.4873\n",
            "Epoch 27/100\n",
            " - 9s - loss: 0.8352 - acc: 0.7353 - val_loss: 2.1331 - val_acc: 0.4986\n",
            "Epoch 28/100\n",
            " - 9s - loss: 0.7996 - acc: 0.7449 - val_loss: 2.1891 - val_acc: 0.4901\n",
            "Epoch 29/100\n",
            " - 8s - loss: 0.7930 - acc: 0.7487 - val_loss: 2.1986 - val_acc: 0.4788\n",
            "Epoch 30/100\n",
            " - 9s - loss: 0.7655 - acc: 0.7540 - val_loss: 2.2085 - val_acc: 0.4887\n",
            "Epoch 31/100\n",
            " - 9s - loss: 0.7538 - acc: 0.7581 - val_loss: 2.2167 - val_acc: 0.4986\n",
            "Epoch 32/100\n",
            " - 9s - loss: 0.7249 - acc: 0.7641 - val_loss: 2.2527 - val_acc: 0.4887\n",
            "Epoch 33/100\n",
            " - 9s - loss: 0.7135 - acc: 0.7743 - val_loss: 2.2717 - val_acc: 0.4816\n",
            "Epoch 34/100\n",
            " - 9s - loss: 0.6942 - acc: 0.7811 - val_loss: 2.3270 - val_acc: 0.4759\n",
            "Epoch 35/100\n",
            " - 9s - loss: 0.6830 - acc: 0.7803 - val_loss: 2.3149 - val_acc: 0.4745\n",
            "Epoch 36/100\n",
            " - 8s - loss: 0.6668 - acc: 0.7884 - val_loss: 2.3478 - val_acc: 0.4802\n",
            "Epoch 37/100\n",
            " - 9s - loss: 0.6436 - acc: 0.7918 - val_loss: 2.3683 - val_acc: 0.4830\n",
            "Epoch 38/100\n",
            " - 9s - loss: 0.6331 - acc: 0.8008 - val_loss: 2.3856 - val_acc: 0.4873\n",
            "Epoch 39/100\n",
            " - 9s - loss: 0.6192 - acc: 0.7991 - val_loss: 2.4162 - val_acc: 0.4844\n",
            "Epoch 40/100\n",
            " - 9s - loss: 0.6138 - acc: 0.8011 - val_loss: 2.4271 - val_acc: 0.4802\n",
            "Epoch 41/100\n",
            " - 9s - loss: 0.5879 - acc: 0.8092 - val_loss: 2.4534 - val_acc: 0.4745\n",
            "Epoch 42/100\n",
            " - 9s - loss: 0.5821 - acc: 0.8087 - val_loss: 2.4782 - val_acc: 0.4943\n",
            "Epoch 43/100\n",
            " - 8s - loss: 0.5716 - acc: 0.8109 - val_loss: 2.5084 - val_acc: 0.4759\n",
            "Epoch 44/100\n",
            " - 9s - loss: 0.5572 - acc: 0.8227 - val_loss: 2.5159 - val_acc: 0.4759\n",
            "Epoch 45/100\n",
            " - 8s - loss: 0.5587 - acc: 0.8169 - val_loss: 2.5331 - val_acc: 0.4802\n",
            "Epoch 46/100\n",
            " - 9s - loss: 0.5422 - acc: 0.8238 - val_loss: 2.5108 - val_acc: 0.4788\n",
            "Epoch 47/100\n",
            " - 9s - loss: 0.5418 - acc: 0.8194 - val_loss: 2.5395 - val_acc: 0.4632\n",
            "Epoch 48/100\n",
            " - 9s - loss: 0.5243 - acc: 0.8295 - val_loss: 2.5899 - val_acc: 0.4788\n",
            "Epoch 49/100\n",
            " - 9s - loss: 0.5195 - acc: 0.8265 - val_loss: 2.6180 - val_acc: 0.4603\n",
            "Epoch 50/100\n",
            " - 9s - loss: 0.5066 - acc: 0.8415 - val_loss: 2.6100 - val_acc: 0.4802\n",
            "Epoch 51/100\n",
            " - 9s - loss: 0.5079 - acc: 0.8304 - val_loss: 2.6279 - val_acc: 0.4887\n",
            "Epoch 52/100\n",
            " - 9s - loss: 0.4998 - acc: 0.8390 - val_loss: 2.6076 - val_acc: 0.4830\n",
            "Epoch 53/100\n",
            " - 9s - loss: 0.4904 - acc: 0.8416 - val_loss: 2.6397 - val_acc: 0.4830\n",
            "Epoch 54/100\n",
            " - 9s - loss: 0.4854 - acc: 0.8394 - val_loss: 2.6474 - val_acc: 0.4773\n",
            "Epoch 55/100\n",
            " - 9s - loss: 0.4731 - acc: 0.8390 - val_loss: 2.6870 - val_acc: 0.4830\n",
            "Epoch 56/100\n",
            " - 9s - loss: 0.4759 - acc: 0.8404 - val_loss: 2.6901 - val_acc: 0.4830\n",
            "Epoch 57/100\n",
            " - 9s - loss: 0.4659 - acc: 0.8432 - val_loss: 2.6915 - val_acc: 0.4830\n",
            "Epoch 58/100\n",
            " - 9s - loss: 0.4605 - acc: 0.8419 - val_loss: 2.7408 - val_acc: 0.4773\n",
            "Epoch 59/100\n",
            " - 9s - loss: 0.4574 - acc: 0.8473 - val_loss: 2.7931 - val_acc: 0.4788\n",
            "Epoch 60/100\n",
            " - 9s - loss: 0.4418 - acc: 0.8492 - val_loss: 2.7906 - val_acc: 0.4745\n",
            "Epoch 61/100\n",
            " - 9s - loss: 0.4453 - acc: 0.8533 - val_loss: 2.7791 - val_acc: 0.4759\n",
            "Epoch 62/100\n",
            " - 9s - loss: 0.4393 - acc: 0.8523 - val_loss: 2.7927 - val_acc: 0.4802\n",
            "Epoch 63/100\n",
            " - 9s - loss: 0.4413 - acc: 0.8519 - val_loss: 2.8752 - val_acc: 0.4688\n",
            "Epoch 64/100\n",
            " - 9s - loss: 0.4332 - acc: 0.8566 - val_loss: 2.8581 - val_acc: 0.4830\n",
            "Epoch 65/100\n",
            " - 8s - loss: 0.4302 - acc: 0.8582 - val_loss: 2.8632 - val_acc: 0.4759\n",
            "Epoch 66/100\n",
            " - 9s - loss: 0.4281 - acc: 0.8560 - val_loss: 2.8972 - val_acc: 0.4731\n",
            "Epoch 67/100\n",
            " - 9s - loss: 0.4225 - acc: 0.8620 - val_loss: 2.9441 - val_acc: 0.4660\n",
            "Epoch 68/100\n",
            " - 9s - loss: 0.4092 - acc: 0.8687 - val_loss: 2.9344 - val_acc: 0.4603\n",
            "Epoch 69/100\n",
            " - 9s - loss: 0.4143 - acc: 0.8637 - val_loss: 2.9409 - val_acc: 0.4816\n",
            "Epoch 70/100\n",
            " - 9s - loss: 0.4166 - acc: 0.8621 - val_loss: 2.9344 - val_acc: 0.4688\n",
            "Epoch 71/100\n",
            " - 9s - loss: 0.4265 - acc: 0.8579 - val_loss: 2.9517 - val_acc: 0.4745\n",
            "Epoch 72/100\n",
            " - 8s - loss: 0.4044 - acc: 0.8667 - val_loss: 2.9557 - val_acc: 0.4660\n",
            "Epoch 73/100\n",
            " - 9s - loss: 0.3939 - acc: 0.8716 - val_loss: 2.9781 - val_acc: 0.4830\n",
            "Epoch 74/100\n",
            " - 9s - loss: 0.3805 - acc: 0.8743 - val_loss: 3.0081 - val_acc: 0.4816\n",
            "Epoch 75/100\n",
            " - 9s - loss: 0.3906 - acc: 0.8678 - val_loss: 3.0356 - val_acc: 0.4603\n",
            "Epoch 76/100\n",
            " - 9s - loss: 0.3846 - acc: 0.8719 - val_loss: 2.9382 - val_acc: 0.4703\n",
            "Epoch 77/100\n",
            " - 9s - loss: 0.4015 - acc: 0.8624 - val_loss: 3.0065 - val_acc: 0.4731\n",
            "Epoch 78/100\n",
            " - 9s - loss: 0.3738 - acc: 0.8782 - val_loss: 3.0067 - val_acc: 0.4788\n",
            "Epoch 79/100\n",
            " - 8s - loss: 0.3687 - acc: 0.8765 - val_loss: 3.0210 - val_acc: 0.4717\n",
            "Epoch 80/100\n",
            " - 9s - loss: 0.3747 - acc: 0.8713 - val_loss: 3.0142 - val_acc: 0.4575\n",
            "Epoch 81/100\n",
            " - 9s - loss: 0.3812 - acc: 0.8675 - val_loss: 2.9584 - val_acc: 0.4844\n",
            "Epoch 82/100\n",
            " - 9s - loss: 0.3785 - acc: 0.8714 - val_loss: 3.0063 - val_acc: 0.4717\n",
            "Epoch 83/100\n",
            " - 9s - loss: 0.3592 - acc: 0.8817 - val_loss: 3.0114 - val_acc: 0.4674\n",
            "Epoch 84/100\n",
            " - 9s - loss: 0.3796 - acc: 0.8702 - val_loss: 3.0471 - val_acc: 0.4603\n",
            "Epoch 85/100\n",
            " - 9s - loss: 0.3614 - acc: 0.8777 - val_loss: 3.0835 - val_acc: 0.4660\n",
            "Epoch 86/100\n",
            " - 9s - loss: 0.3660 - acc: 0.8780 - val_loss: 3.0659 - val_acc: 0.4632\n",
            "Epoch 87/100\n",
            " - 9s - loss: 0.3640 - acc: 0.8771 - val_loss: 3.0931 - val_acc: 0.4646\n",
            "Epoch 88/100\n",
            " - 9s - loss: 0.3589 - acc: 0.8777 - val_loss: 3.0966 - val_acc: 0.4943\n",
            "Epoch 89/100\n",
            " - 9s - loss: 0.3529 - acc: 0.8793 - val_loss: 3.0700 - val_acc: 0.4660\n",
            "Epoch 90/100\n",
            " - 9s - loss: 0.3537 - acc: 0.8851 - val_loss: 3.0770 - val_acc: 0.4731\n",
            "Epoch 91/100\n",
            " - 8s - loss: 0.3502 - acc: 0.8826 - val_loss: 3.1018 - val_acc: 0.4830\n",
            "Epoch 92/100\n",
            " - 9s - loss: 0.3579 - acc: 0.8799 - val_loss: 3.1296 - val_acc: 0.4717\n",
            "Epoch 93/100\n",
            " - 8s - loss: 0.3480 - acc: 0.8843 - val_loss: 3.1348 - val_acc: 0.4788\n",
            "Epoch 94/100\n",
            " - 8s - loss: 0.3535 - acc: 0.8845 - val_loss: 3.1557 - val_acc: 0.4802\n",
            "Epoch 95/100\n",
            " - 9s - loss: 0.3463 - acc: 0.8875 - val_loss: 3.1404 - val_acc: 0.4844\n",
            "Epoch 96/100\n",
            " - 9s - loss: 0.3391 - acc: 0.8835 - val_loss: 3.2103 - val_acc: 0.4618\n",
            "Epoch 97/100\n",
            " - 9s - loss: 0.3386 - acc: 0.8858 - val_loss: 3.1807 - val_acc: 0.4788\n",
            "Epoch 98/100\n",
            " - 9s - loss: 0.3321 - acc: 0.8894 - val_loss: 3.1754 - val_acc: 0.4688\n",
            "Epoch 99/100\n",
            " - 9s - loss: 0.3408 - acc: 0.8862 - val_loss: 3.1228 - val_acc: 0.4660\n",
            "Epoch 100/100\n",
            " - 9s - loss: 0.3340 - acc: 0.8856 - val_loss: 3.1189 - val_acc: 0.4731\n"
          ],
          "name": "stdout"
        },
        {
          "output_type": "execute_result",
          "data": {
            "text/plain": [
              "<keras.callbacks.History at 0x7f31cfe2bc88>"
            ]
          },
          "metadata": {
            "tags": []
          },
          "execution_count": 22
        }
      ]
    },
    {
      "cell_type": "code",
      "metadata": {
        "id": "0FeEQIj-7TNI",
        "colab_type": "code",
        "colab": {}
      },
      "source": [
        "# Inference from Model\n",
        "\n",
        "# Generate a sequence of characters with a language model\n",
        "def generate_seq(model, mapping, seq_length, seed_text, n_chars):\n",
        "\n",
        "# model: the sequential model we trained earlier\n",
        "# mapping: to encode the input characters to integers using the mapping function\n",
        "# seq_length: the length of input sequence\n",
        "# seed_text: input text given to model, after which it need to predict the characters\n",
        "# n_chars:  the length of output we want to generate\n",
        "\n",
        "    in_text = seed_text\n",
        "    # generate a fixed number of characters\n",
        "\n",
        "    for _ in range(n_chars):\n",
        "        # encode the characters as integers\n",
        "        print (\"input sequence at iteration {}: \".format(_), in_text)\n",
        "\n",
        "        encoded = [mapping[char] for char in in_text]\n",
        "        \n",
        "        # truncate sequences to a fixed length\n",
        "        # we want the input of length 30, there can be 3 possibilities:\n",
        "          # 1. Given sequence is more than 30 in length - pad_sequence will truncate the initial part and keep last 30 characters\n",
        "          # 2. Given sequence is equal to 30 in length - pad_sequence will not do anything\n",
        "          # 3. Given sequence is less than 30 in length - pad_sequence will add 0's to the initial part to make length 30 characters\n",
        "\n",
        "        encoded = pad_sequences([encoded], maxlen=seq_length, truncating='pre')\n",
        "        \n",
        "        # predict character\n",
        "        yhat = model.predict_classes(encoded, verbose=0)\n",
        "        # reverse map integer to character\n",
        "        out_char = ''\n",
        "        for char, index in mapping.items():\n",
        "          if index == yhat:\n",
        "            out_char = char\n",
        "            break\n",
        "        # append to input\n",
        "        in_text += char\n",
        "    return in_text"
      ],
      "execution_count": 0,
      "outputs": []
    },
    {
      "cell_type": "code",
      "metadata": {
        "id": "VHmWwXmkHKeU",
        "colab_type": "code",
        "colab": {
          "base_uri": "https://localhost:8080/",
          "height": 202
        },
        "outputId": "995e929d-4706-4092-fd09-cb3039aeef62"
      },
      "source": [
        "inp = \"large armies of\"\n",
        "print (\"output Sequence:\", generate_seq(model, mapping, 30, inp.lower(), 10))"
      ],
      "execution_count": 45,
      "outputs": [
        {
          "output_type": "stream",
          "text": [
            "input sequence at iteration 0:  large armies of\n",
            "input sequence at iteration 1:  large armies off\n",
            "input sequence at iteration 2:  large armies offi\n",
            "input sequence at iteration 3:  large armies offic\n",
            "input sequence at iteration 4:  large armies office\n",
            "input sequence at iteration 5:  large armies offices\n",
            "input sequence at iteration 6:  large armies offices \n",
            "input sequence at iteration 7:  large armies offices a\n",
            "input sequence at iteration 8:  large armies offices an\n",
            "input sequence at iteration 9:  large armies offices and\n",
            "output Sequence: large armies offices and \n"
          ],
          "name": "stdout"
        }
      ]
    },
    {
      "cell_type": "code",
      "metadata": {
        "id": "OTcWWMd9Jc_M",
        "colab_type": "code",
        "colab": {}
      },
      "source": [
        ""
      ],
      "execution_count": 0,
      "outputs": []
    }
  ]
}